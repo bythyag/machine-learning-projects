{
 "cells": [
  {
   "cell_type": "code",
   "execution_count": null,
   "id": "87140f53",
   "metadata": {},
   "outputs": [],
   "source": [
    "#library imports\n",
    "import pandas as pd\n",
    "import numpy as np\n",
    "import matplotlib.pyplot as plt\n",
    "import seaborn as sns"
   ]
  },
  {
   "cell_type": "code",
   "execution_count": null,
   "id": "6efd0c43",
   "metadata": {},
   "outputs": [],
   "source": [
    "# Load the Air Passengers dataset\n",
    "url = \"https://raw.githubusercontent.com/jbrownlee/Datasets/master/airline-passengers.csv\"\n",
    "df = pd.read_csv(url)"
   ]
  },
  {
   "cell_type": "code",
   "execution_count": null,
   "id": "5c3fb491",
   "metadata": {},
   "outputs": [],
   "source": [
    "df.info()"
   ]
  },
  {
   "cell_type": "code",
   "execution_count": null,
   "id": "b358419f",
   "metadata": {},
   "outputs": [],
   "source": [
    "#Convert 'Month' to datetime and set it as index\n",
    "\n",
    "df['Month'] = pd.to_datetime(df['Month'])\n",
    "df.set_index('Month', inplace=True)\n",
    "\n",
    "# Drop duplicates if any\n",
    "df = df[~df.duplicated()]"
   ]
  },
  {
   "cell_type": "code",
   "execution_count": null,
   "id": "4553ba01",
   "metadata": {},
   "outputs": [],
   "source": [
    "#Plot before cleaning\n",
    "\n",
    "plt.figure(figsize=(10, 5))\n",
    "plt.plot(df.index, df['Passengers'], marker='o')\n",
    "plt.title('Monthly Air Passengers')\n",
    "plt.ylabel('Number of Passengers')\n",
    "plt.xlabel('Date')\n",
    "plt.show()"
   ]
  },
  {
   "cell_type": "code",
   "execution_count": null,
   "id": "7c6faa12",
   "metadata": {},
   "outputs": [],
   "source": [
    "# Detect outliers using IQR (Interquartile Range)\n",
    "Q1 = df['Passengers'].quantile(0.25)\n",
    "Q3 = df['Passengers'].quantile(0.75)\n",
    "IQR = Q3 - Q1\n",
    "\n",
    "lower_bound = Q1 - 1.5 * IQR\n",
    "upper_bound = Q3 + 1.5 * IQR\n",
    "\n",
    "# Outlier rows\n",
    "df = df[(df['Passengers'] >= lower_bound) | (df['Passengers'] <= upper_bound)]"
   ]
  },
  {
   "cell_type": "code",
   "execution_count": null,
   "id": "3baedaaf",
   "metadata": {},
   "outputs": [],
   "source": [
    "# Final plot\n",
    "plt.figure(figsize=(10, 5))\n",
    "plt.plot(df.index, df['Passengers'], marker='o', color='teal')\n",
    "plt.title('Cleaned Monthly Air Passengers')\n",
    "plt.ylabel('Number of Passengers')\n",
    "plt.xlabel('Date')\n",
    "plt.show()"
   ]
  }
 ],
 "metadata": {
  "kernelspec": {
   "display_name": ".venv",
   "language": "python",
   "name": "python3"
  },
  "language_info": {
   "codemirror_mode": {
    "name": "ipython",
    "version": 3
   },
   "file_extension": ".py",
   "mimetype": "text/x-python",
   "name": "python",
   "nbconvert_exporter": "python",
   "pygments_lexer": "ipython3",
   "version": "3.9.6"
  }
 },
 "nbformat": 4,
 "nbformat_minor": 5
}
