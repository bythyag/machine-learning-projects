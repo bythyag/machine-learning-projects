{
 "cells": [
  {
   "cell_type": "markdown",
   "id": "2d00535a",
   "metadata": {},
   "source": [
    "the first half of the code explores the board game recommender system using tf-idf and standard scalar followed by cosine similarity. the second half explores the movie recommender system using surprise library\n",
    "\n",
    "i used llm here to generate the code. my goal with this work is to understand the overview of how recommdender system in general and surprise library work, code structure, and develop broader understanding of the topic."
   ]
  },
  {
   "cell_type": "code",
   "execution_count": null,
   "id": "42ba0084",
   "metadata": {},
   "outputs": [],
   "source": [
    "import os\n",
    "import pandas as pd\n",
    "import numpy as np\n",
    "import matplotlib.pyplot as plt\n",
    "import seaborn as sns\n",
    "from wordcloud import WordCloud\n",
    "from sklearn.feature_extraction.text import TfidfVectorizer\n",
    "from sklearn.metrics.pairwise import cosine_similarity\n",
    "%matplotlib inline\n",
    "from sklearn.preprocessing import StandardScaler\n",
    "from surprise import Dataset, Reader, SVD\n",
    "from surprise.model_selection import train_test_split\n",
    "from surprise.accuracy import rmse\n",
    "from surprise.dump import dump, load\n",
    "from sklearn.pipeline import FeatureUnion\n",
    "from sklearn.compose import ColumnTransformer\n",
    "from sklearn.preprocessing import FunctionTransformer\n",
    "from sklearn.pipeline import Pipeline\n",
    "from scipy.sparse import hstack\n",
    "from sklearn.metrics.pairwise import cosine_similarity\n",
    "import random\n",
    "import os\n",
    "import urllib.request\n",
    "from collections import defaultdict\n",
    "\n",
    "sns.set_style(\"whitegrid\")\n",
    "plt.style.use(\"fivethirtyeight\")"
   ]
  },
  {
   "cell_type": "markdown",
   "id": "7dfaeff9",
   "metadata": {},
   "source": [
    "### board game recommender system"
   ]
  },
  {
   "cell_type": "code",
   "execution_count": null,
   "id": "0525b72a",
   "metadata": {},
   "outputs": [],
   "source": [
    "# 1. Import dataset\n",
    "games = pd.read_csv('/Users/thyag/Desktop/codes/machine-learning-projects/datasets/bgg_dataset.csv', sep=';')\n",
    "\n",
    "# 2. Convert all non-null IDs to integer\n",
    "games['ID'] = pd.to_numeric(games['ID'], errors='coerce')\n",
    "\n",
    "# 3. Fill missing IDs with unique random 6-digit integers\n",
    "mask = games['ID'].isna()\n",
    "num_missing = mask.sum()\n",
    "existing_ids = set(games['ID'].dropna().astype(int))\n",
    "\n",
    "new_ids = []\n",
    "while len(new_ids) < num_missing:\n",
    "    candidate = random.randint(100000, 999999)\n",
    "    if candidate not in existing_ids:\n",
    "        new_ids.append(candidate)\n",
    "        existing_ids.add(candidate)\n",
    "\n",
    "games.loc[mask, 'ID'] = new_ids\n",
    "\n",
    "# 4. Convert all IDs to int and set as index\n",
    "games['ID'] = games['ID'].astype(int)\n",
    "games = games.set_index('ID', drop=False)\n",
    "\n",
    "# 5. Convert 'Year Published' to numeric, filling NaNs with 0\n",
    "games['Year Published'] = pd.to_numeric(games['Year Published'], errors='coerce').fillna(0).astype(int)\n",
    "\n",
    "# 6. Replace comma with dot and convert to float for rating and complexity\n",
    "for col in ['Rating Average', 'Complexity Average']:\n",
    "    games[col] = games[col].str.replace(',', '.', regex=False).astype(float)"
   ]
  },
  {
   "cell_type": "code",
   "execution_count": null,
   "id": "a61e11b4",
   "metadata": {},
   "outputs": [],
   "source": [
    "games.info()"
   ]
  },
  {
   "cell_type": "code",
   "execution_count": null,
   "id": "73848976",
   "metadata": {},
   "outputs": [],
   "source": [
    "games.head()"
   ]
  },
  {
   "cell_type": "code",
   "execution_count": null,
   "id": "d3495d42",
   "metadata": {},
   "outputs": [],
   "source": [
    "# create text features and numeric features\n",
    "\n",
    "text_features = games['Mechanics'] + ',' + games['Domains']\n",
    "numeric_features = games[['Min Players', 'Max Players', 'Play Time', 'Min Age', 'Complexity Average']]\n",
    "\n",
    "# fill NaN values in text features\n",
    "games['Mechanics'] = games['Mechanics'].fillna('')\n",
    "games['Domains'] = games['Domains'].fillna('')\n",
    "games['combined_text'] = games['Mechanics'] + ', ' + games['Domains']\n",
    "\n",
    "#tf-idf for text features\n",
    "tfidf = TfidfVectorizer()\n",
    "\n",
    "#standard scaling for numeric features\n",
    "scaler = StandardScaler()\n",
    "\n",
    "#fit transformers\n",
    "tfidf_matrix = tfidf.fit_transform(games['combined_text'])\n",
    "scaled_numeric = scaler.fit_transform(numeric_features)"
   ]
  },
  {
   "cell_type": "code",
   "execution_count": null,
   "id": "07280fc4",
   "metadata": {},
   "outputs": [],
   "source": [
    "# concatenate tf-idf and scaled numeric features\n",
    "combined_features = hstack([tfidf_matrix, scaled_numeric])\n",
    "\n",
    "# perform cosine similarity\n",
    "similarity = cosine_similarity(combined_features)"
   ]
  },
  {
   "cell_type": "code",
   "execution_count": null,
   "id": "f97fec9c",
   "metadata": {},
   "outputs": [],
   "source": [
    "# Function to recommend games based on a given game index\n",
    "\n",
    "def recommender(game_index, top_n=5):\n",
    "    sim_scores = list(enumerate(similarity[game_index]))\n",
    "    sim_scores = sorted(sim_scores, key=lambda x: x[1], reverse=True)\n",
    "    sim_scores = [i for i in sim_scores if i[0] != game_index]\n",
    "    top_indices = [i[0] for i in sim_scores[:top_n]]\n",
    "    return games.iloc[top_indices][['Name', 'Rating Average', 'Mechanics', 'Domains']]"
   ]
  },
  {
   "cell_type": "code",
   "execution_count": null,
   "id": "3beaeb20",
   "metadata": {},
   "outputs": [],
   "source": [
    "recommender(0)"
   ]
  },
  {
   "cell_type": "markdown",
   "id": "17f006ef",
   "metadata": {},
   "source": [
    "### movie recommender system "
   ]
  },
  {
   "cell_type": "code",
   "execution_count": null,
   "id": "e95fdf93",
   "metadata": {},
   "outputs": [],
   "source": [
    "# Ensure u.item is downloaded\n",
    "item_url = 'http://files.grouplens.org/datasets/movielens/ml-100k/u.item'\n",
    "item_local = 'u.item'\n",
    "if not os.path.exists(item_local):\n",
    "    urllib.request.urlretrieve(item_url, item_local)\n",
    "\n",
    "# Load MovieLens 100k ratings\n",
    "data = Dataset.load_builtin('ml-100k')\n",
    "trainset, testset = train_test_split(data, test_size=0.25, random_state=0)\n",
    "\n",
    "# Train SVD model\n",
    "algo = SVD()\n",
    "algo.fit(trainset)\n",
    "\n",
    "# Predict for all unseen user-movie pairs\n",
    "anti_testset = trainset.build_anti_testset()\n",
    "predictions = algo.test(anti_testset)\n",
    "\n",
    "# Organize predictions by user\n",
    "top_n = defaultdict(list)\n",
    "for uid, iid, true_r, est, _ in predictions:\n",
    "    top_n[uid].append((iid, est))\n",
    "for uid in top_n:\n",
    "    top_n[uid] = sorted(top_n[uid], key=lambda x: x[1], reverse=True)[:10]\n",
    "\n",
    "# Load movie titles from u.item\n",
    "df_movies = pd.read_csv(\n",
    "    item_local, sep='|', header=None, encoding='latin-1',\n",
    "    usecols=[0, 1], names=['movie_id', 'title']\n",
    ")\n",
    "movie_id_to_title = dict(zip(df_movies.movie_id.astype(str), df_movies.title))\n",
    "\n",
    "# Print top 10 recommendations for a user\n",
    "user_id = '196'\n",
    "recommended = top_n[user_id]\n",
    "for movie_id, score in recommended:\n",
    "    print(movie_id_to_title[movie_id], round(score, 2))\n"
   ]
  }
 ],
 "metadata": {
  "kernelspec": {
   "display_name": ".venv",
   "language": "python",
   "name": "python3"
  },
  "language_info": {
   "codemirror_mode": {
    "name": "ipython",
    "version": 3
   },
   "file_extension": ".py",
   "mimetype": "text/x-python",
   "name": "python",
   "nbconvert_exporter": "python",
   "pygments_lexer": "ipython3",
   "version": "3.9.6"
  }
 },
 "nbformat": 4,
 "nbformat_minor": 5
}
