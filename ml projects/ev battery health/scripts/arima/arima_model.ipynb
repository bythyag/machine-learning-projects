{
 "cells": [
  {
   "cell_type": "code",
   "execution_count": 1,
   "id": "47192d5e",
   "metadata": {},
   "outputs": [],
   "source": [
    "import pandas as pd\n",
    "from statsmodels.tsa.arima.model import ARIMA"
   ]
  },
  {
   "cell_type": "code",
   "execution_count": 2,
   "id": "1bc28f76",
   "metadata": {},
   "outputs": [],
   "source": [
    "# Load the dataset\n",
    "battery_soh = pd.read_csv('/Users/thyag/Desktop/projects/eloctrocute/sample_data/simulated_battery_soh.csv', index_col=0, parse_dates=True)"
   ]
  },
  {
   "cell_type": "code",
   "execution_count": 3,
   "id": "b2545e53",
   "metadata": {},
   "outputs": [],
   "source": [
    "# Model parameters\n",
    "p = 1 # AR term\n",
    "d = 1 # differencing\n",
    "q = 1 # MA term"
   ]
  },
  {
   "cell_type": "code",
   "execution_count": 4,
   "id": "1af3e056",
   "metadata": {},
   "outputs": [],
   "source": [
    "# Split the data into training and testing sets\n",
    "n_obs = len(battery_soh)\n",
    "train_size = int(n_obs * 0.8) # Use 80% for training\n",
    "train_data = battery_soh[0:train_size]\n",
    "test_data = battery_soh[train_size:]"
   ]
  },
  {
   "cell_type": "code",
   "execution_count": 5,
   "id": "ad8b35d7",
   "metadata": {},
   "outputs": [
    {
     "name": "stdout",
     "output_type": "stream",
     "text": [
      "Total observations: 250\n",
      "Training observations: 200\n",
      "Testing observations: 50\n"
     ]
    }
   ],
   "source": [
    "print(f\"Total observations: {n_obs}\")\n",
    "print(f\"Training observations: {len(train_data)}\")\n",
    "print(f\"Testing observations: {len(test_data)}\")"
   ]
  },
  {
   "cell_type": "code",
   "execution_count": 9,
   "id": "294f66a8",
   "metadata": {},
   "outputs": [
    {
     "name": "stderr",
     "output_type": "stream",
     "text": [
      "/Users/thyag/Desktop/projects/venv/lib/python3.12/site-packages/statsmodels/tsa/base/tsa_model.py:473: ValueWarning: No frequency information was provided, so inferred frequency D will be used.\n",
      "  self._init_dates(dates, freq)\n",
      "/Users/thyag/Desktop/projects/venv/lib/python3.12/site-packages/statsmodels/tsa/base/tsa_model.py:473: ValueWarning: No frequency information was provided, so inferred frequency D will be used.\n",
      "  self._init_dates(dates, freq)\n",
      "/Users/thyag/Desktop/projects/venv/lib/python3.12/site-packages/statsmodels/tsa/base/tsa_model.py:473: ValueWarning: No frequency information was provided, so inferred frequency D will be used.\n",
      "  self._init_dates(dates, freq)\n"
     ]
    }
   ],
   "source": [
    "# Fit the ARIMA model\n",
    "model = ARIMA(train_data, order=(p, d, q))\n",
    "model_fit = model.fit()"
   ]
  },
  {
   "cell_type": "code",
   "execution_count": 10,
   "id": "2ccef1ac",
   "metadata": {},
   "outputs": [
    {
     "name": "stdout",
     "output_type": "stream",
     "text": [
      "                               SARIMAX Results                                \n",
      "==============================================================================\n",
      "Dep. Variable:            Battery_SOH   No. Observations:                  200\n",
      "Model:                 ARIMA(1, 1, 1)   Log Likelihood                 -81.681\n",
      "Date:                Fri, 18 Apr 2025   AIC                            169.363\n",
      "Time:                        16:43:13   BIC                            179.243\n",
      "Sample:                    01-01-2023   HQIC                           173.362\n",
      "                         - 07-19-2023                                         \n",
      "Covariance Type:                  opg                                         \n",
      "==============================================================================\n",
      "                 coef    std err          z      P>|z|      [0.025      0.975]\n",
      "------------------------------------------------------------------------------\n",
      "ar.L1         -0.2284      0.129     -1.772      0.076      -0.481       0.024\n",
      "ma.L1         -0.3418      0.135     -2.523      0.012      -0.607      -0.076\n",
      "sigma2         0.1328      0.014      9.833      0.000       0.106       0.159\n",
      "===================================================================================\n",
      "Ljung-Box (L1) (Q):                   4.38   Jarque-Bera (JB):                 2.40\n",
      "Prob(Q):                              0.04   Prob(JB):                         0.30\n",
      "Heteroskedasticity (H):               1.23   Skew:                            -0.22\n",
      "Prob(H) (two-sided):                  0.41   Kurtosis:                         2.68\n",
      "===================================================================================\n",
      "\n",
      "Warnings:\n",
      "[1] Covariance matrix calculated using the outer product of gradients (complex-step).\n"
     ]
    }
   ],
   "source": [
    "print(model_fit.summary())\n"
   ]
  },
  {
   "cell_type": "code",
   "execution_count": 11,
   "id": "8bcf8035",
   "metadata": {},
   "outputs": [],
   "source": [
    "# Save the fitted model and test data for evaluation\n",
    "model_fit.save(\"/Users/thyag/Desktop/projects/eloctrocute/model_parms/arima_model.pkl\")\n",
    "test_data.to_csv(\"/Users/thyag/Desktop/projects/eloctrocute/sample_data/test_data.csv\")\n",
    "train_data.to_csv(\"/Users/thyag/Desktop/projects/eloctrocute/sample_data/train_data.csv\") # Save train data for plotting later\n"
   ]
  }
 ],
 "metadata": {
  "kernelspec": {
   "display_name": "venv",
   "language": "python",
   "name": "python3"
  },
  "language_info": {
   "codemirror_mode": {
    "name": "ipython",
    "version": 3
   },
   "file_extension": ".py",
   "mimetype": "text/x-python",
   "name": "python",
   "nbconvert_exporter": "python",
   "pygments_lexer": "ipython3",
   "version": "3.12.8"
  }
 },
 "nbformat": 4,
 "nbformat_minor": 5
}
