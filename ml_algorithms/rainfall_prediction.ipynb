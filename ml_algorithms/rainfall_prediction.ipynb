{
 "cells": [
  {
   "cell_type": "markdown",
   "metadata": {
    "colab_type": "text",
    "id": "view-in-github"
   },
   "source": [
    "<a href=\"https://colab.research.google.com/github/bythyag/machine-learning-projects/blob/main/rainfall_prediction.ipynb\" target=\"_parent\"><img src=\"https://colab.research.google.com/assets/colab-badge.svg\" alt=\"Open In Colab\"/></a>"
   ]
  },
  {
   "cell_type": "code",
   "execution_count": 22,
   "metadata": {
    "id": "5EVXQh2nI9WY"
   },
   "outputs": [],
   "source": [
    "# library imports\n",
    "import pandas as pd\n",
    "import matplotlib.pyplot as plt\n",
    "from sklearn.utils import resample\n",
    "from sklearn.impute import SimpleImputer\n",
    "from sklearn.preprocessing import MinMaxScaler\n",
    "from sklearn.model_selection import train_test_split\n",
    "import time\n",
    "from sklearn.metrics import accuracy_score, roc_auc_score, cohen_kappa_score, roc_curve, classification_report\n",
    "from sklearn.metrics import ConfusionMatrixDisplay\n",
    "import matplotlib.pyplot as plt\n",
    "from sklearn.metrics import f1_score, precision_score, recall_score\n",
    "from sklearn.linear_model import LogisticRegression\n",
    "from sklearn.tree import DecisionTreeClassifier\n",
    "from sklearn.ensemble import RandomForestClassifier\n",
    "import xgboost as xgb"
   ]
  },
  {
   "cell_type": "code",
   "execution_count": 11,
   "metadata": {
    "colab": {
     "base_uri": "https://localhost:8080/"
    },
    "id": "m6eHICJgJwEN",
    "outputId": "e2843813-5008-4a1a-a5b2-5f2f5205fb73"
   },
   "outputs": [],
   "source": [
    "url = 'https://raw.githubusercontent.com/amankharwal/Website-data/refs/heads/master/weatherAUS.csv' #load dataset :)\n",
    "weather_data = pd.read_csv(url)"
   ]
  },
  {
   "cell_type": "code",
   "execution_count": 12,
   "metadata": {
    "colab": {
     "base_uri": "https://localhost:8080/",
     "height": 617
    },
    "id": "NyiY0LC7JMbT",
    "outputId": "12364bff-3fae-4b6d-96d9-e5a22a373036"
   },
   "outputs": [
    {
     "data": {
      "text/html": [
       "<div>\n",
       "<style scoped>\n",
       "    .dataframe tbody tr th:only-of-type {\n",
       "        vertical-align: middle;\n",
       "    }\n",
       "\n",
       "    .dataframe tbody tr th {\n",
       "        vertical-align: top;\n",
       "    }\n",
       "\n",
       "    .dataframe thead th {\n",
       "        text-align: right;\n",
       "    }\n",
       "</style>\n",
       "<table border=\"1\" class=\"dataframe\">\n",
       "  <thead>\n",
       "    <tr style=\"text-align: right;\">\n",
       "      <th></th>\n",
       "      <th>Date</th>\n",
       "      <th>Location</th>\n",
       "      <th>MinTemp</th>\n",
       "      <th>MaxTemp</th>\n",
       "      <th>Rainfall</th>\n",
       "      <th>Evaporation</th>\n",
       "      <th>Sunshine</th>\n",
       "      <th>WindGustDir</th>\n",
       "      <th>WindGustSpeed</th>\n",
       "      <th>WindDir9am</th>\n",
       "      <th>...</th>\n",
       "      <th>Humidity3pm</th>\n",
       "      <th>Pressure9am</th>\n",
       "      <th>Pressure3pm</th>\n",
       "      <th>Cloud9am</th>\n",
       "      <th>Cloud3pm</th>\n",
       "      <th>Temp9am</th>\n",
       "      <th>Temp3pm</th>\n",
       "      <th>RainToday</th>\n",
       "      <th>RISK_MM</th>\n",
       "      <th>RainTomorrow</th>\n",
       "    </tr>\n",
       "  </thead>\n",
       "  <tbody>\n",
       "    <tr>\n",
       "      <th>0</th>\n",
       "      <td>2008-12-01</td>\n",
       "      <td>Albury</td>\n",
       "      <td>13.4</td>\n",
       "      <td>22.9</td>\n",
       "      <td>0.6</td>\n",
       "      <td>NaN</td>\n",
       "      <td>NaN</td>\n",
       "      <td>W</td>\n",
       "      <td>44.0</td>\n",
       "      <td>W</td>\n",
       "      <td>...</td>\n",
       "      <td>22.0</td>\n",
       "      <td>1007.7</td>\n",
       "      <td>1007.1</td>\n",
       "      <td>8.0</td>\n",
       "      <td>NaN</td>\n",
       "      <td>16.9</td>\n",
       "      <td>21.8</td>\n",
       "      <td>No</td>\n",
       "      <td>0.0</td>\n",
       "      <td>No</td>\n",
       "    </tr>\n",
       "    <tr>\n",
       "      <th>1</th>\n",
       "      <td>2008-12-02</td>\n",
       "      <td>Albury</td>\n",
       "      <td>7.4</td>\n",
       "      <td>25.1</td>\n",
       "      <td>0.0</td>\n",
       "      <td>NaN</td>\n",
       "      <td>NaN</td>\n",
       "      <td>WNW</td>\n",
       "      <td>44.0</td>\n",
       "      <td>NNW</td>\n",
       "      <td>...</td>\n",
       "      <td>25.0</td>\n",
       "      <td>1010.6</td>\n",
       "      <td>1007.8</td>\n",
       "      <td>NaN</td>\n",
       "      <td>NaN</td>\n",
       "      <td>17.2</td>\n",
       "      <td>24.3</td>\n",
       "      <td>No</td>\n",
       "      <td>0.0</td>\n",
       "      <td>No</td>\n",
       "    </tr>\n",
       "    <tr>\n",
       "      <th>2</th>\n",
       "      <td>2008-12-03</td>\n",
       "      <td>Albury</td>\n",
       "      <td>12.9</td>\n",
       "      <td>25.7</td>\n",
       "      <td>0.0</td>\n",
       "      <td>NaN</td>\n",
       "      <td>NaN</td>\n",
       "      <td>WSW</td>\n",
       "      <td>46.0</td>\n",
       "      <td>W</td>\n",
       "      <td>...</td>\n",
       "      <td>30.0</td>\n",
       "      <td>1007.6</td>\n",
       "      <td>1008.7</td>\n",
       "      <td>NaN</td>\n",
       "      <td>2.0</td>\n",
       "      <td>21.0</td>\n",
       "      <td>23.2</td>\n",
       "      <td>No</td>\n",
       "      <td>0.0</td>\n",
       "      <td>No</td>\n",
       "    </tr>\n",
       "    <tr>\n",
       "      <th>3</th>\n",
       "      <td>2008-12-04</td>\n",
       "      <td>Albury</td>\n",
       "      <td>9.2</td>\n",
       "      <td>28.0</td>\n",
       "      <td>0.0</td>\n",
       "      <td>NaN</td>\n",
       "      <td>NaN</td>\n",
       "      <td>NE</td>\n",
       "      <td>24.0</td>\n",
       "      <td>SE</td>\n",
       "      <td>...</td>\n",
       "      <td>16.0</td>\n",
       "      <td>1017.6</td>\n",
       "      <td>1012.8</td>\n",
       "      <td>NaN</td>\n",
       "      <td>NaN</td>\n",
       "      <td>18.1</td>\n",
       "      <td>26.5</td>\n",
       "      <td>No</td>\n",
       "      <td>1.0</td>\n",
       "      <td>No</td>\n",
       "    </tr>\n",
       "    <tr>\n",
       "      <th>4</th>\n",
       "      <td>2008-12-05</td>\n",
       "      <td>Albury</td>\n",
       "      <td>17.5</td>\n",
       "      <td>32.3</td>\n",
       "      <td>1.0</td>\n",
       "      <td>NaN</td>\n",
       "      <td>NaN</td>\n",
       "      <td>W</td>\n",
       "      <td>41.0</td>\n",
       "      <td>ENE</td>\n",
       "      <td>...</td>\n",
       "      <td>33.0</td>\n",
       "      <td>1010.8</td>\n",
       "      <td>1006.0</td>\n",
       "      <td>7.0</td>\n",
       "      <td>8.0</td>\n",
       "      <td>17.8</td>\n",
       "      <td>29.7</td>\n",
       "      <td>No</td>\n",
       "      <td>0.2</td>\n",
       "      <td>No</td>\n",
       "    </tr>\n",
       "  </tbody>\n",
       "</table>\n",
       "<p>5 rows × 24 columns</p>\n",
       "</div>"
      ],
      "text/plain": [
       "         Date Location  MinTemp  MaxTemp  Rainfall  Evaporation  Sunshine  \\\n",
       "0  2008-12-01   Albury     13.4     22.9       0.6          NaN       NaN   \n",
       "1  2008-12-02   Albury      7.4     25.1       0.0          NaN       NaN   \n",
       "2  2008-12-03   Albury     12.9     25.7       0.0          NaN       NaN   \n",
       "3  2008-12-04   Albury      9.2     28.0       0.0          NaN       NaN   \n",
       "4  2008-12-05   Albury     17.5     32.3       1.0          NaN       NaN   \n",
       "\n",
       "  WindGustDir  WindGustSpeed WindDir9am  ... Humidity3pm  Pressure9am  \\\n",
       "0           W           44.0          W  ...        22.0       1007.7   \n",
       "1         WNW           44.0        NNW  ...        25.0       1010.6   \n",
       "2         WSW           46.0          W  ...        30.0       1007.6   \n",
       "3          NE           24.0         SE  ...        16.0       1017.6   \n",
       "4           W           41.0        ENE  ...        33.0       1010.8   \n",
       "\n",
       "   Pressure3pm  Cloud9am  Cloud3pm  Temp9am  Temp3pm  RainToday  RISK_MM  \\\n",
       "0       1007.1       8.0       NaN     16.9     21.8         No      0.0   \n",
       "1       1007.8       NaN       NaN     17.2     24.3         No      0.0   \n",
       "2       1008.7       NaN       2.0     21.0     23.2         No      0.0   \n",
       "3       1012.8       NaN       NaN     18.1     26.5         No      1.0   \n",
       "4       1006.0       7.0       8.0     17.8     29.7         No      0.2   \n",
       "\n",
       "   RainTomorrow  \n",
       "0            No  \n",
       "1            No  \n",
       "2            No  \n",
       "3            No  \n",
       "4            No  \n",
       "\n",
       "[5 rows x 24 columns]"
      ]
     },
     "execution_count": 12,
     "metadata": {},
     "output_type": "execute_result"
    }
   ],
   "source": [
    "weather_data.head()"
   ]
  },
  {
   "cell_type": "code",
   "execution_count": 13,
   "metadata": {
    "id": "Ds-1t1QlKqjk"
   },
   "outputs": [],
   "source": [
    "# Data Prerocessing\n",
    "\n",
    "# convert to categorical variables\n",
    "dir_to_deg = {\n",
    "    'N': 0, 'NNE': 22.5, 'NE': 45, 'ENE': 67.5,\n",
    "    'E': 90, 'ESE': 112.5, 'SE': 135, 'SSE': 157.5,\n",
    "    'S': 180, 'SSW': 202.5, 'SW': 225, 'WSW': 247.5,\n",
    "    'W': 270, 'WNW': 292.5, 'NW': 315, 'NNW': 337.5\n",
    "}\n",
    "\n",
    "weather_data['WindDir9am'] = weather_data['WindDir9am'].map(dir_to_deg)\n",
    "weather_data['WindDir3pm'] = weather_data['WindDir3pm'].map(dir_to_deg)\n",
    "weather_data['WindGustDir'] = weather_data['WindGustDir'].map(dir_to_deg)\n",
    "weather_data['RainToday'] = weather_data['RainToday'].map({'No': 0, 'Yes': 1})\n",
    "weather_data['RainTomorrow'] = weather_data['RainTomorrow'].map({'No': 0, 'Yes': 1})\n",
    "\n",
    "# Convert 'Date' column to datetime format\n",
    "weather_data['Date'] = pd.to_datetime(weather_data['Date'])\n",
    "\n",
    "\n",
    "# rebalance the dataset\n",
    "\n",
    "no = weather_data[weather_data.RainTomorrow == 0]\n",
    "yes = weather_data[weather_data.RainTomorrow == 1]\n",
    "\n",
    "yes_oversampled = resample(yes, replace=True, n_samples=len(no), random_state=123)\n",
    "weather_data = pd.concat([no, yes_oversampled])\n",
    "\n",
    "# Median Imputer for continuous features\n",
    "median_imputer = SimpleImputer(strategy='median')\n",
    "weather_data[[\"Sunshine\", \"Evaporation\"]] = median_imputer.fit_transform(weather_data[[\"Sunshine\", \"Evaporation\"]])\n",
    "\n",
    "# Mode Imputer for categorical/discrete features\n",
    "mode_imputer = SimpleImputer(strategy='most_frequent')\n",
    "weather_data[[\"Cloud3pm\", \"Cloud9am\"]] = mode_imputer.fit_transform(weather_data[[\"Cloud3pm\", \"Cloud9am\"]])\n",
    "\n",
    "# Median Imputer for continuous features\n",
    "median_imputer = SimpleImputer(strategy='median')\n",
    "weather_data[[\"RISK_MM\", \"Cloud9am\", \"Cloud3pm\", \"Humidity9am\", \"Humidity3pm\", \"Rainfall\", \"WindGustSpeed\"]] = median_imputer.fit_transform(weather_data[[\"RISK_MM\", \"Cloud9am\", \"Cloud3pm\", \"Humidity9am\", \"Humidity3pm\", \"Rainfall\", \"WindGustSpeed\"]])\n",
    "\n",
    "# Mode Imputer for categorical/discrete features\n",
    "mode_imputer = SimpleImputer(strategy='most_frequent')\n",
    "weather_data[[\"RainToday\"]] = mode_imputer.fit_transform(weather_data[[\"RainToday\"]])\n",
    "\n",
    "# Median Imputer for continuous features\n",
    "from sklearn.impute import SimpleImputer\n",
    "median_imputer = SimpleImputer(strategy='median')\n",
    "weather_data[[\"Pressure9am\", \"Pressure3pm\"]] = median_imputer.fit_transform(weather_data[[\"Pressure9am\", \"Pressure3pm\"]])\n",
    "\n",
    "# Mode Imputer for categorical/discrete features\n",
    "mode_imputer = SimpleImputer(strategy='most_frequent')\n",
    "weather_data[[\"WindGustDir\", \"WindDir9am\", \"WindDir3pm\"]] = mode_imputer.fit_transform(weather_data[[\"WindGustDir\", \"WindDir9am\", \"WindDir3pm\"]])\n",
    "\n",
    "# remove outliers\n",
    "\n",
    "numeric_cols = weather_data.select_dtypes(include=['float64']).columns\n",
    "\n",
    "Q1 = weather_data[numeric_cols].quantile(0.25)\n",
    "Q3 = weather_data[numeric_cols].quantile(0.75)\n",
    "IQR = Q3 - Q1\n",
    "\n",
    "# Keep only rows within 1.5 * IQR for all numeric columns\n",
    "weather_data_clean = weather_data[~((weather_data[numeric_cols] < (Q1 - 1.5 * IQR)) | (weather_data[numeric_cols] > (Q3 + 1.5 * IQR))).any(axis=1)]\n",
    "\n",
    "# drop missing values\n",
    "weather_data.dropna(inplace=True)\n",
    "\n"
   ]
  },
  {
   "cell_type": "code",
   "execution_count": 15,
   "metadata": {
    "id": "5XFP2c9YmrMT"
   },
   "outputs": [],
   "source": [
    "# min-max scaling\n",
    "\n",
    "continuous_cols = [\n",
    "    'MinTemp', 'MaxTemp', 'Rainfall', 'Evaporation', 'Sunshine',\n",
    "    'WindGustSpeed', 'WindSpeed9am', 'WindSpeed3pm',\n",
    "    'Humidity9am', 'Humidity3pm',\n",
    "    'Pressure9am', 'Pressure3pm',\n",
    "    'Cloud9am', 'Cloud3pm',\n",
    "    'Temp9am', 'Temp3pm',\n",
    "    'RISK_MM'\n",
    "]\n",
    "\n",
    "# Initialize scaler\n",
    "scaler = MinMaxScaler()\n",
    "\n",
    "weather_data[continuous_cols] = scaler.fit_transform(weather_data[continuous_cols])"
   ]
  },
  {
   "cell_type": "code",
   "execution_count": 17,
   "metadata": {
    "id": "ebfZoa9FnjY_"
   },
   "outputs": [],
   "source": [
    "features = weather_data[['MinTemp', 'MaxTemp', 'Rainfall', 'Evaporation', 'Sunshine', 'WindGustDir',\n",
    "                       'WindGustSpeed', 'WindDir9am', 'WindDir3pm', 'WindSpeed9am', 'WindSpeed3pm', 'Humidity9am',\n",
    "                       'Humidity3pm', 'Pressure9am', 'Pressure3pm', 'Cloud9am', 'Cloud3pm', 'Temp9am', 'Temp3pm',\n",
    "                       'RainToday']]\n",
    "target = weather_data['RainTomorrow']\n",
    "\n",
    "# Split into test and train\n",
    "X_train, X_test, y_train, y_test = train_test_split(features, target, test_size=0.25, random_state=12345)"
   ]
  },
  {
   "cell_type": "code",
   "execution_count": 34,
   "metadata": {
    "id": "6NOmu79xoKGl"
   },
   "outputs": [],
   "source": [
    "# Function to run the model and print results\n",
    "\n",
    "def run_model(model_name, model, X_train, y_train, X_test, y_test, verbose=True):\n",
    "    t0=time.time()\n",
    "    model.fit(X_train,y_train)\n",
    "    y_pred = model.predict(X_test)\n",
    "    accuracy = accuracy_score(y_test, y_pred)\n",
    "    roc_auc = roc_auc_score(y_test, y_pred)\n",
    "    f1 = f1_score(y_test, y_pred)\n",
    "    precision = precision_score(y_test, y_pred)\n",
    "    recall = recall_score(y_test, y_pred)\n",
    "    time_taken = time.time()-t0\n",
    "    print(\"Model = {}\".format(model_name))\n",
    "    print(classification_report(y_test,y_pred,digits=5))\n",
    "    print(\"ROC Area under Curve = {}\".format(roc_auc))\n",
    "    print(\"Time taken for training = {}\".format(time_taken))\n",
    "    "
   ]
  },
  {
   "cell_type": "code",
   "execution_count": 35,
   "metadata": {},
   "outputs": [
    {
     "name": "stdout",
     "output_type": "stream",
     "text": [
      "Model = Logistic Regression\n",
      "              precision    recall  f1-score   support\n",
      "\n",
      "           0    0.77171   0.79163   0.78155     26727\n",
      "           1    0.78473   0.76434   0.77440     26560\n",
      "\n",
      "    accuracy                        0.77803     53287\n",
      "   macro avg    0.77822   0.77799   0.77797     53287\n",
      "weighted avg    0.77820   0.77803   0.77799     53287\n",
      "\n",
      "ROC Area under Curve = 0.7779894038777176\n",
      "Time taken for training = 18.922438144683838\n"
     ]
    }
   ],
   "source": [
    "# Logistic Regression\n",
    "params_lr = {'penalty': 'l1', 'solver':'liblinear'}\n",
    "\n",
    "model_lr = LogisticRegression(**params_lr)\n",
    "run_model(\"Logistic Regression\",model_lr, X_train, y_train, X_test, y_test)"
   ]
  },
  {
   "cell_type": "code",
   "execution_count": 36,
   "metadata": {},
   "outputs": [
    {
     "name": "stdout",
     "output_type": "stream",
     "text": [
      "Model = Decision Tree\n",
      "              precision    recall  f1-score   support\n",
      "\n",
      "           0    0.85394   0.80847   0.83058     26727\n",
      "           1    0.81707   0.86084   0.83838     26560\n",
      "\n",
      "    accuracy                        0.83458     53287\n",
      "   macro avg    0.83550   0.83466   0.83448     53287\n",
      "weighted avg    0.83556   0.83458   0.83447     53287\n",
      "\n",
      "ROC Area under Curve = 0.8346571041151923\n",
      "Time taken for training = 0.33980894088745117\n"
     ]
    }
   ],
   "source": [
    "\n",
    "# Decision Tree\n",
    "\n",
    "params_dt = {'max_depth': 16,\n",
    "             'max_features': \"sqrt\"}\n",
    "\n",
    "model_dt = DecisionTreeClassifier(**params_dt)\n",
    "run_model(\"Decision Tree\", model_dt, X_train, y_train, X_test, y_test)\n"
   ]
  },
  {
   "cell_type": "code",
   "execution_count": 37,
   "metadata": {},
   "outputs": [
    {
     "name": "stdout",
     "output_type": "stream",
     "text": [
      "Model = Random Forest Classifier\n",
      "              precision    recall  f1-score   support\n",
      "\n",
      "           0    0.90985   0.87002   0.88949     26727\n",
      "           1    0.87472   0.91325   0.89357     26560\n",
      "\n",
      "    accuracy                        0.89157     53287\n",
      "   macro avg    0.89228   0.89164   0.89153     53287\n",
      "weighted avg    0.89234   0.89157   0.89152     53287\n",
      "\n",
      "ROC Area under Curve = 0.8916360469377793\n",
      "Time taken for training = 19.339380025863647\n"
     ]
    }
   ],
   "source": [
    "# Random Forest\n",
    "\n",
    "params_rf = {'max_depth': 16,\n",
    "             'min_samples_leaf': 1,\n",
    "             'min_samples_split': 2,\n",
    "             'n_estimators': 100,\n",
    "             'random_state': 12345}\n",
    "\n",
    "model_rf = RandomForestClassifier(**params_rf)\n",
    "run_model(\"Random Forest Classifier\",model_rf, X_train, y_train, X_test, y_test)"
   ]
  },
  {
   "cell_type": "code",
   "execution_count": 39,
   "metadata": {
    "colab": {
     "base_uri": "https://localhost:8080/",
     "height": 1000
    },
    "id": "_jtZk9WdoMTG",
    "outputId": "6b2b408d-ba60-4cfb-a676-3b96c64d692d"
   },
   "outputs": [
    {
     "name": "stdout",
     "output_type": "stream",
     "text": [
      "Model = XGBoost Classifier\n",
      "              precision    recall  f1-score   support\n",
      "\n",
      "           0    0.97318   0.91230   0.94176     26727\n",
      "           1    0.91697   0.97470   0.94496     26560\n",
      "\n",
      "    accuracy                        0.94340     53287\n",
      "   macro avg    0.94508   0.94350   0.94336     53287\n",
      "weighted avg    0.94516   0.94340   0.94335     53287\n",
      "\n",
      "ROC Area under Curve = 0.9434986099972907\n",
      "Time taken for training = 5.516936302185059\n"
     ]
    }
   ],
   "source": [
    "# XGBoost\n",
    "\n",
    "params_xgb ={'n_estimators': 500,\n",
    "            'max_depth': 16}\n",
    "\n",
    "model_xgb = xgb.XGBClassifier(**params_xgb)\n",
    "run_model(\"XGBoost Classifier\", model_xgb, X_train, y_train, X_test, y_test)\n"
   ]
  }
 ],
 "metadata": {
  "colab": {
   "authorship_tag": "ABX9TyPomIrwdw7/SYhRjf7rdTGC",
   "include_colab_link": true,
   "provenance": []
  },
  "kernelspec": {
   "display_name": ".venv",
   "language": "python",
   "name": "python3"
  },
  "language_info": {
   "codemirror_mode": {
    "name": "ipython",
    "version": 3
   },
   "file_extension": ".py",
   "mimetype": "text/x-python",
   "name": "python",
   "nbconvert_exporter": "python",
   "pygments_lexer": "ipython3",
   "version": "3.9.6"
  }
 },
 "nbformat": 4,
 "nbformat_minor": 0
}
