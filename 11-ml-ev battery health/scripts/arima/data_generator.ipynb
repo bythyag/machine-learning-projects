{
 "cells": [
  {
   "cell_type": "code",
   "execution_count": 1,
   "id": "ffbfce05",
   "metadata": {},
   "outputs": [],
   "source": [
    "import numpy as np\n",
    "import pandas as pd\n",
    "import matplotlib.pyplot as plt"
   ]
  },
  {
   "cell_type": "code",
   "execution_count": 2,
   "id": "39d5d413",
   "metadata": {},
   "outputs": [],
   "source": [
    "n_points = 250       # Number of data points (e.g., charge cycles or days)\n",
    "initial_capacity = 100 # Initial battery capacity (%)\n",
    "degradation_rate = 0.05 # Average capacity loss per point\n",
    "noise_level = 0.3     # Random fluctuations around the trend\n",
    "random_seed = 42      # For reproducibility"
   ]
  },
  {
   "cell_type": "code",
   "execution_count": 3,
   "id": "e4ff8081",
   "metadata": {},
   "outputs": [],
   "source": [
    "np.random.seed(random_seed)"
   ]
  },
  {
   "cell_type": "code",
   "execution_count": 4,
   "id": "0dc908f1",
   "metadata": {},
   "outputs": [
    {
     "data": {
      "text/plain": [
       "array([  0,   1,   2,   3,   4,   5,   6,   7,   8,   9,  10,  11,  12,\n",
       "        13,  14,  15,  16,  17,  18,  19,  20,  21,  22,  23,  24,  25,\n",
       "        26,  27,  28,  29,  30,  31,  32,  33,  34,  35,  36,  37,  38,\n",
       "        39,  40,  41,  42,  43,  44,  45,  46,  47,  48,  49,  50,  51,\n",
       "        52,  53,  54,  55,  56,  57,  58,  59,  60,  61,  62,  63,  64,\n",
       "        65,  66,  67,  68,  69,  70,  71,  72,  73,  74,  75,  76,  77,\n",
       "        78,  79,  80,  81,  82,  83,  84,  85,  86,  87,  88,  89,  90,\n",
       "        91,  92,  93,  94,  95,  96,  97,  98,  99, 100, 101, 102, 103,\n",
       "       104, 105, 106, 107, 108, 109, 110, 111, 112, 113, 114, 115, 116,\n",
       "       117, 118, 119, 120, 121, 122, 123, 124, 125, 126, 127, 128, 129,\n",
       "       130, 131, 132, 133, 134, 135, 136, 137, 138, 139, 140, 141, 142,\n",
       "       143, 144, 145, 146, 147, 148, 149, 150, 151, 152, 153, 154, 155,\n",
       "       156, 157, 158, 159, 160, 161, 162, 163, 164, 165, 166, 167, 168,\n",
       "       169, 170, 171, 172, 173, 174, 175, 176, 177, 178, 179, 180, 181,\n",
       "       182, 183, 184, 185, 186, 187, 188, 189, 190, 191, 192, 193, 194,\n",
       "       195, 196, 197, 198, 199, 200, 201, 202, 203, 204, 205, 206, 207,\n",
       "       208, 209, 210, 211, 212, 213, 214, 215, 216, 217, 218, 219, 220,\n",
       "       221, 222, 223, 224, 225, 226, 227, 228, 229, 230, 231, 232, 233,\n",
       "       234, 235, 236, 237, 238, 239, 240, 241, 242, 243, 244, 245, 246,\n",
       "       247, 248, 249])"
      ]
     },
     "execution_count": 4,
     "metadata": {},
     "output_type": "execute_result"
    }
   ],
   "source": [
    "# Create time steps (representing cycles or days)\n",
    "time = np.arange(n_points)\n",
    "time"
   ]
  },
  {
   "cell_type": "code",
   "execution_count": 6,
   "id": "674f0402",
   "metadata": {},
   "outputs": [
    {
     "data": {
      "text/plain": [
       "array([100.    ,  99.9499,  99.8996,  99.8491,  99.7984,  99.7475,\n",
       "        99.6964,  99.6451,  99.5936,  99.5419,  99.49  ,  99.4379,\n",
       "        99.3856,  99.3331,  99.2804,  99.2275,  99.1744,  99.1211,\n",
       "        99.0676,  99.0139,  98.96  ,  98.9059,  98.8516,  98.7971,\n",
       "        98.7424,  98.6875,  98.6324,  98.5771,  98.5216,  98.4659,\n",
       "        98.41  ,  98.3539,  98.2976,  98.2411,  98.1844,  98.1275,\n",
       "        98.0704,  98.0131,  97.9556,  97.8979,  97.84  ,  97.7819,\n",
       "        97.7236,  97.6651,  97.6064,  97.5475,  97.4884,  97.4291,\n",
       "        97.3696,  97.3099,  97.25  ,  97.1899,  97.1296,  97.0691,\n",
       "        97.0084,  96.9475,  96.8864,  96.8251,  96.7636,  96.7019,\n",
       "        96.64  ,  96.5779,  96.5156,  96.4531,  96.3904,  96.3275,\n",
       "        96.2644,  96.2011,  96.1376,  96.0739,  96.01  ,  95.9459,\n",
       "        95.8816,  95.8171,  95.7524,  95.6875,  95.6224,  95.5571,\n",
       "        95.4916,  95.4259,  95.36  ,  95.2939,  95.2276,  95.1611,\n",
       "        95.0944,  95.0275,  94.9604,  94.8931,  94.8256,  94.7579,\n",
       "        94.69  ,  94.6219,  94.5536,  94.4851,  94.4164,  94.3475,\n",
       "        94.2784,  94.2091,  94.1396,  94.0699,  94.    ,  93.9299,\n",
       "        93.8596,  93.7891,  93.7184,  93.6475,  93.5764,  93.5051,\n",
       "        93.4336,  93.3619,  93.29  ,  93.2179,  93.1456,  93.0731,\n",
       "        93.0004,  92.9275,  92.8544,  92.7811,  92.7076,  92.6339,\n",
       "        92.56  ,  92.4859,  92.4116,  92.3371,  92.2624,  92.1875,\n",
       "        92.1124,  92.0371,  91.9616,  91.8859,  91.81  ,  91.7339,\n",
       "        91.6576,  91.5811,  91.5044,  91.4275,  91.3504,  91.2731,\n",
       "        91.1956,  91.1179,  91.04  ,  90.9619,  90.8836,  90.8051,\n",
       "        90.7264,  90.6475,  90.5684,  90.4891,  90.4096,  90.3299,\n",
       "        90.25  ,  90.1699,  90.0896,  90.0091,  89.9284,  89.8475,\n",
       "        89.7664,  89.6851,  89.6036,  89.5219,  89.44  ,  89.3579,\n",
       "        89.2756,  89.1931,  89.1104,  89.0275,  88.9444,  88.8611,\n",
       "        88.7776,  88.6939,  88.61  ,  88.5259,  88.4416,  88.3571,\n",
       "        88.2724,  88.1875,  88.1024,  88.0171,  87.9316,  87.8459,\n",
       "        87.76  ,  87.6739,  87.5876,  87.5011,  87.4144,  87.3275,\n",
       "        87.2404,  87.1531,  87.0656,  86.9779,  86.89  ,  86.8019,\n",
       "        86.7136,  86.6251,  86.5364,  86.4475,  86.3584,  86.2691,\n",
       "        86.1796,  86.0899,  86.    ,  85.9099,  85.8196,  85.7291,\n",
       "        85.6384,  85.5475,  85.4564,  85.3651,  85.2736,  85.1819,\n",
       "        85.09  ,  84.9979,  84.9056,  84.8131,  84.7204,  84.6275,\n",
       "        84.5344,  84.4411,  84.3476,  84.2539,  84.16  ,  84.0659,\n",
       "        83.9716,  83.8771,  83.7824,  83.6875,  83.5924,  83.4971,\n",
       "        83.4016,  83.3059,  83.21  ,  83.1139,  83.0176,  82.9211,\n",
       "        82.8244,  82.7275,  82.6304,  82.5331,  82.4356,  82.3379,\n",
       "        82.24  ,  82.1419,  82.0436,  81.9451,  81.8464,  81.7475,\n",
       "        81.6484,  81.5491,  81.4496,  81.3499])"
      ]
     },
     "execution_count": 6,
     "metadata": {},
     "output_type": "execute_result"
    }
   ],
   "source": [
    "# Simulate a slightly non-linear degradation trend\n",
    "trend = initial_capacity - degradation_rate * time - 0.0001 * time**2\n",
    "trend"
   ]
  },
  {
   "cell_type": "code",
   "execution_count": 8,
   "id": "9e7c058b",
   "metadata": {},
   "outputs": [
    {
     "data": {
      "text/plain": [
       "array([-0.37826519,  0.27535858,  0.63664686,  0.30973958, -0.45581099,\n",
       "       -0.14527022,  0.38007334, -0.21230084,  0.13314583,  0.23239022,\n",
       "       -0.27807914, -0.01785761, -0.9723802 , -0.30731629, -0.07577045,\n",
       "       -0.37433495,  0.48972339, -0.42904241, -0.13201335,  0.03922217,\n",
       "        0.43238199, -0.43075865,  0.34894913,  0.00306992, -0.2944526 ,\n",
       "        0.13863104,  0.05971791, -0.18006506,  0.02094063, -0.11559408,\n",
       "        0.0340552 ,  0.1986392 ,  0.47580504, -0.37134465,  0.63991001,\n",
       "       -0.58562634, -0.04553553,  0.17649516,  0.08429756, -0.18680986,\n",
       "       -0.06243668, -0.14790028, -0.17680943,  0.25488063,  0.10710465,\n",
       "       -0.20787288,  0.26987996,  0.09218986,  0.24385864,  0.18888865,\n",
       "       -0.2486985 , -0.16805431,  0.22418808,  0.18311108, -0.00627048,\n",
       "        0.03519821,  0.38329947, -0.17747142,  0.16412921, -0.0606578 ,\n",
       "       -0.06530436,  0.32963306,  0.2476249 ,  0.24405289,  0.39164364,\n",
       "        0.00630115,  0.20458589, -0.09308003,  0.09724991, -0.03904292,\n",
       "        0.02909879,  0.17854711, -0.2454662 ,  0.62771618, -0.30180521,\n",
       "       -0.36425658,  0.34743326,  0.23749881,  0.18723595,  0.18850365,\n",
       "       -0.00367403, -0.26917631,  0.02274137, -0.20314851,  0.29253592,\n",
       "       -0.04411721, -0.24764916, -0.09641575,  0.12387944, -0.16911737,\n",
       "       -0.24666612,  0.07310616,  0.07348997, -0.15208295, -0.14131149,\n",
       "        0.06961498, -0.4344253 , -0.42223913, -0.21553327, -0.06403415,\n",
       "        0.09327227,  0.44260687,  0.25729789, -0.04798156, -0.00570486,\n",
       "       -0.30075881, -0.00555394, -0.08659759,  0.09681557, -0.24816928,\n",
       "        0.15580395,  0.45982167, -0.03262804,  0.12051352,  0.2070432 ,\n",
       "       -0.12036614,  0.06722774,  0.00377772,  0.02930283, -0.23190294,\n",
       "        0.00735305,  0.14939949,  0.43534308,  0.28778125,  0.64595474,\n",
       "       -0.23020427,  0.26169619,  0.0550026 ,  0.65694088, -0.24248949,\n",
       "       -0.25191655, -0.17981779, -0.63716872, -0.15772651, -0.2277398 ,\n",
       "        0.04511814,  0.10252679,  0.56285125,  0.28512715, -0.1730711 ,\n",
       "       -0.2695244 ,  0.14757575, -0.39606996,  0.54943763,  0.35383204,\n",
       "       -0.1407527 , -0.51394036,  0.40616171, -0.03436195,  0.37134489,\n",
       "       -0.4783283 , -0.17981251,  0.00157311,  0.01409418, -0.13501964,\n",
       "        0.18685498, -0.32028613, -0.04271385,  0.03608869,  0.15433165,\n",
       "        0.21348446, -0.33739263, -0.46023425,  0.38330305,  0.0996942 ,\n",
       "       -0.22454596,  0.46534559,  0.03470239,  0.35378916,  0.02025554,\n",
       "        0.61822438,  0.52660225, -0.07468924,  0.29147129,  0.19361278,\n",
       "        0.41058947, -0.28947704,  0.20581544,  0.31752735, -0.52762185,\n",
       "       -0.35497755, -0.61176965, -0.08082205,  0.21526268,  0.45070712,\n",
       "        0.02222843,  0.48858466, -0.41403044, -0.51101473, -0.01666431,\n",
       "        0.11521963, -0.00980842, -0.62023263, -0.02673601, -0.39134085,\n",
       "        0.20090176,  0.10997947, -0.28196394, -0.15416008, -0.31776406,\n",
       "       -0.01880373,  0.2865427 , -0.29571781,  0.15121395, -0.15907729,\n",
       "       -0.23786185, -0.03210911, -0.3105727 , -0.16609479, -0.35936337,\n",
       "        0.58941754,  0.01057907, -0.20991765,  0.06419397, -0.03369841,\n",
       "       -0.06629088,  0.18425001,  0.22725231, -0.15915034, -0.17274547,\n",
       "       -0.08251551, -0.69057635, -0.45455732,  0.41006228,  0.49349031,\n",
       "       -0.07471081,  0.17296709,  0.09337505,  0.92366424,  0.33587247,\n",
       "       -0.03837528, -0.28666213, -0.4819339 ,  0.06103909, -0.22690522,\n",
       "       -0.42667611, -0.19397187, -0.3244644 ,  0.50614249,  0.26449193,\n",
       "       -0.00239179,  0.44398324,  0.02321049, -0.25838526,  0.45693722,\n",
       "        0.16167301, -0.31117385, -0.0571016 , -0.26268548, -0.41483992])"
      ]
     },
     "execution_count": 8,
     "metadata": {},
     "output_type": "execute_result"
    }
   ],
   "source": [
    "# Add some random noise\n",
    "noise = np.random.normal(loc=0.0, scale=noise_level, size=n_points)\n",
    "noise"
   ]
  },
  {
   "cell_type": "code",
   "execution_count": 9,
   "id": "f45253f9",
   "metadata": {},
   "outputs": [
    {
     "data": {
      "text/plain": [
       "array([ 99.62173481, 100.22525858, 100.53624686, 100.15883958,\n",
       "        99.34258901,  99.60222978, 100.07647334,  99.43279916,\n",
       "        99.72674583,  99.77429022,  99.21192086,  99.42004239,\n",
       "        98.4132198 ,  99.02578371,  99.20462955,  98.85316505,\n",
       "        99.66412339,  98.69205759,  98.93558665,  99.05312217,\n",
       "        99.39238199,  98.47514135,  99.20054913,  98.80016992,\n",
       "        98.4479474 ,  98.82613104,  98.69211791,  98.39703494,\n",
       "        98.54254063,  98.35030592,  98.4440552 ,  98.5525392 ,\n",
       "        98.77340504,  97.86975535,  98.82431001,  97.54187366,\n",
       "        98.02486447,  98.18959516,  98.03989756,  97.71109014,\n",
       "        97.77756332,  97.63399972,  97.54679057,  97.91998063,\n",
       "        97.71350465,  97.33962712,  97.75827996,  97.52128986,\n",
       "        97.61345864,  97.49878865,  97.0013015 ,  97.02184569,\n",
       "        97.35378808,  97.25221108,  97.00212952,  96.98269821,\n",
       "        97.26969947,  96.64762858,  96.92772921,  96.6412422 ,\n",
       "        96.57469564,  96.90753306,  96.7632249 ,  96.69715289,\n",
       "        96.78204364,  96.33380115,  96.46898589,  96.10801997,\n",
       "        96.23484991,  96.03485708,  96.03909879,  96.12444711,\n",
       "        95.6361338 ,  96.44481618,  95.45059479,  95.32324342,\n",
       "        95.96983326,  95.79459881,  95.67883595,  95.61440365,\n",
       "        95.35632597,  95.02472369,  95.25034137,  94.95795149,\n",
       "        95.38693592,  94.98338279,  94.71275084,  94.79668425,\n",
       "        94.94947944,  94.58878263,  94.44333388,  94.69500616,\n",
       "        94.62708997,  94.33301705,  94.27508851,  94.41711498,\n",
       "        93.8439747 ,  93.78686087,  93.92406673,  94.00586585,\n",
       "        94.09327227,  94.37250687,  94.11689789,  93.74111844,\n",
       "        93.71269514,  93.34674119,  93.57084606,  93.41850241,\n",
       "        93.53041557,  93.11373072,  93.44580395,  93.67772167,\n",
       "        93.11297196,  93.19361352,  93.2074432 ,  92.80713386,\n",
       "        92.92162774,  92.78487772,  92.73690283,  92.40199706,\n",
       "        92.56735305,  92.63529949,  92.84694308,  92.62488125,\n",
       "        92.90835474,  91.95729573,  92.37409619,  92.0921026 ,\n",
       "        92.61854088,  91.64341051,  91.55808345,  91.55408221,\n",
       "        91.02043128,  91.42337349,  91.2766602 ,  91.47261814,\n",
       "        91.45292679,  91.83595125,  91.48072715,  90.9448289 ,\n",
       "        90.7704756 ,  91.10947575,  90.48753004,  91.35453763,\n",
       "        91.08023204,  90.5067473 ,  90.05445964,  90.89526171,\n",
       "        90.37523805,  90.70124489,  89.7716717 ,  89.99008749,\n",
       "        90.09117311,  90.02319418,  89.79338036,  90.03435498,\n",
       "        89.44611387,  89.64238615,  89.63968869,  89.67623165,\n",
       "        89.65348446,  89.02050737,  88.81536575,  89.57640305,\n",
       "        89.2100942 ,  88.80295404,  89.40974559,  88.89580239,\n",
       "        89.13138916,  88.71415554,  89.22822438,  89.05250225,\n",
       "        88.36691076,  88.64857129,  88.46601278,  88.59808947,\n",
       "        87.81292296,  88.22291544,  88.24912735,  87.31827815,\n",
       "        87.40502245,  87.06213035,  87.50677795,  87.71636268,\n",
       "        87.86510712,  87.34972843,  87.72898466,  86.73906956,\n",
       "        86.55458527,  86.96123569,  87.00521963,  86.79209158,\n",
       "        86.09336737,  86.59836399,  86.14505915,  86.64840176,\n",
       "        86.46837947,  85.98713606,  86.02543992,  85.77213594,\n",
       "        85.98119627,  86.1964427 ,  85.52388219,  85.88031395,\n",
       "        85.47932271,  85.30963815,  85.42429089,  85.0545273 ,\n",
       "        85.10750521,  84.82253663,  85.67941754,  85.00847907,\n",
       "        84.69568235,  84.87729397,  84.68670159,  84.56120912,\n",
       "        84.71865001,  84.66835231,  84.18844966,  84.08115453,\n",
       "        84.07748449,  83.37532365,  83.51704268,  84.28716228,\n",
       "        84.27589031,  83.61278919,  83.76536709,  83.59047505,\n",
       "        84.32526424,  83.64177247,  83.17162472,  82.82723787,\n",
       "        82.5356661 ,  82.98213909,  82.59749478,  82.30082389,\n",
       "        82.43642813,  82.2086356 ,  82.94174249,  82.60239193,\n",
       "        82.23760821,  82.58588324,  82.06681049,  81.68671474,\n",
       "        82.30333722,  81.90917301,  81.33722615,  81.4919984 ,\n",
       "        81.18691452,  80.93506008])"
      ]
     },
     "execution_count": 9,
     "metadata": {},
     "output_type": "execute_result"
    }
   ],
   "source": [
    "# Combine trend and noise\n",
    "capacity = trend + noise\n",
    "capacity"
   ]
  },
  {
   "cell_type": "code",
   "execution_count": 11,
   "id": "36accd5d",
   "metadata": {},
   "outputs": [
    {
     "data": {
      "text/plain": [
       "array([ 99.62173481, 100.22525858, 100.53624686, 100.15883958,\n",
       "        99.34258901,  99.60222978, 100.07647334,  99.43279916,\n",
       "        99.72674583,  99.77429022,  99.21192086,  99.42004239,\n",
       "        98.4132198 ,  99.02578371,  99.20462955,  98.85316505,\n",
       "        99.66412339,  98.69205759,  98.93558665,  99.05312217,\n",
       "        99.39238199,  98.47514135,  99.20054913,  98.80016992,\n",
       "        98.4479474 ,  98.82613104,  98.69211791,  98.39703494,\n",
       "        98.54254063,  98.35030592,  98.4440552 ,  98.5525392 ,\n",
       "        98.77340504,  97.86975535,  98.82431001,  97.54187366,\n",
       "        98.02486447,  98.18959516,  98.03989756,  97.71109014,\n",
       "        97.77756332,  97.63399972,  97.54679057,  97.91998063,\n",
       "        97.71350465,  97.33962712,  97.75827996,  97.52128986,\n",
       "        97.61345864,  97.49878865,  97.0013015 ,  97.02184569,\n",
       "        97.35378808,  97.25221108,  97.00212952,  96.98269821,\n",
       "        97.26969947,  96.64762858,  96.92772921,  96.6412422 ,\n",
       "        96.57469564,  96.90753306,  96.7632249 ,  96.69715289,\n",
       "        96.78204364,  96.33380115,  96.46898589,  96.10801997,\n",
       "        96.23484991,  96.03485708,  96.03909879,  96.12444711,\n",
       "        95.6361338 ,  96.44481618,  95.45059479,  95.32324342,\n",
       "        95.96983326,  95.79459881,  95.67883595,  95.61440365,\n",
       "        95.35632597,  95.02472369,  95.25034137,  94.95795149,\n",
       "        95.38693592,  94.98338279,  94.71275084,  94.79668425,\n",
       "        94.94947944,  94.58878263,  94.44333388,  94.69500616,\n",
       "        94.62708997,  94.33301705,  94.27508851,  94.41711498,\n",
       "        93.8439747 ,  93.78686087,  93.92406673,  94.00586585,\n",
       "        94.09327227,  94.37250687,  94.11689789,  93.74111844,\n",
       "        93.71269514,  93.34674119,  93.57084606,  93.41850241,\n",
       "        93.53041557,  93.11373072,  93.44580395,  93.67772167,\n",
       "        93.11297196,  93.19361352,  93.2074432 ,  92.80713386,\n",
       "        92.92162774,  92.78487772,  92.73690283,  92.40199706,\n",
       "        92.56735305,  92.63529949,  92.84694308,  92.62488125,\n",
       "        92.90835474,  91.95729573,  92.37409619,  92.0921026 ,\n",
       "        92.61854088,  91.64341051,  91.55808345,  91.55408221,\n",
       "        91.02043128,  91.42337349,  91.2766602 ,  91.47261814,\n",
       "        91.45292679,  91.83595125,  91.48072715,  90.9448289 ,\n",
       "        90.7704756 ,  91.10947575,  90.48753004,  91.35453763,\n",
       "        91.08023204,  90.5067473 ,  90.05445964,  90.89526171,\n",
       "        90.37523805,  90.70124489,  89.7716717 ,  89.99008749,\n",
       "        90.09117311,  90.02319418,  89.79338036,  90.03435498,\n",
       "        89.44611387,  89.64238615,  89.63968869,  89.67623165,\n",
       "        89.65348446,  89.02050737,  88.81536575,  89.57640305,\n",
       "        89.2100942 ,  88.80295404,  89.40974559,  88.89580239,\n",
       "        89.13138916,  88.71415554,  89.22822438,  89.05250225,\n",
       "        88.36691076,  88.64857129,  88.46601278,  88.59808947,\n",
       "        87.81292296,  88.22291544,  88.24912735,  87.31827815,\n",
       "        87.40502245,  87.06213035,  87.50677795,  87.71636268,\n",
       "        87.86510712,  87.34972843,  87.72898466,  86.73906956,\n",
       "        86.55458527,  86.96123569,  87.00521963,  86.79209158,\n",
       "        86.09336737,  86.59836399,  86.14505915,  86.64840176,\n",
       "        86.46837947,  85.98713606,  86.02543992,  85.77213594,\n",
       "        85.98119627,  86.1964427 ,  85.52388219,  85.88031395,\n",
       "        85.47932271,  85.30963815,  85.42429089,  85.0545273 ,\n",
       "        85.10750521,  84.82253663,  85.67941754,  85.00847907,\n",
       "        84.69568235,  84.87729397,  84.68670159,  84.56120912,\n",
       "        84.71865001,  84.66835231,  84.18844966,  84.08115453,\n",
       "        84.07748449,  83.37532365,  83.51704268,  84.28716228,\n",
       "        84.27589031,  83.61278919,  83.76536709,  83.59047505,\n",
       "        84.32526424,  83.64177247,  83.17162472,  82.82723787,\n",
       "        82.5356661 ,  82.98213909,  82.59749478,  82.30082389,\n",
       "        82.43642813,  82.2086356 ,  82.94174249,  82.60239193,\n",
       "        82.23760821,  82.58588324,  82.06681049,  81.68671474,\n",
       "        82.30333722,  81.90917301,  81.33722615,  81.4919984 ,\n",
       "        81.18691452,  80.93506008])"
      ]
     },
     "execution_count": 11,
     "metadata": {},
     "output_type": "execute_result"
    }
   ],
   "source": [
    "# Ensure capacity doesn't go unrealistically high or below a floor (e.g., 70%)\n",
    "capacity = np.clip(capacity, 70, initial_capacity + noise_level*2)\n",
    "capacity"
   ]
  },
  {
   "cell_type": "code",
   "execution_count": 13,
   "id": "d850a433",
   "metadata": {},
   "outputs": [
    {
     "data": {
      "text/plain": [
       "2023-01-01     99.621735\n",
       "2023-01-02    100.225259\n",
       "2023-01-03    100.536247\n",
       "2023-01-04    100.158840\n",
       "2023-01-05     99.342589\n",
       "                 ...    \n",
       "2023-09-03     81.909173\n",
       "2023-09-04     81.337226\n",
       "2023-09-05     81.491998\n",
       "2023-09-06     81.186915\n",
       "2023-09-07     80.935060\n",
       "Freq: D, Name: Battery_SOH, Length: 250, dtype: float64"
      ]
     },
     "execution_count": 13,
     "metadata": {},
     "output_type": "execute_result"
    }
   ],
   "source": [
    "# Create a Pandas Series with a DatetimeIndex (good practice for time series)\n",
    "# Let's assume daily measurements starting from 2023-01-01\n",
    "dates = pd.date_range(start='2023-01-01', periods=n_points, freq='D')\n",
    "battery_soh = pd.Series(capacity, index=dates, name='Battery_SOH')\n",
    "battery_soh"
   ]
  },
  {
   "cell_type": "code",
   "execution_count": 17,
   "id": "be58dea5",
   "metadata": {},
   "outputs": [
    {
     "data": {
      "image/png": "[encoded data removed]",
      "text/plain": [
       "<Figure size 800x600 with 1 Axes>"
      ]
     },
     "metadata": {},
     "output_type": "display_data"
    }
   ],
   "source": [
    "# Visualize the Data\n",
    "plt.figure(figsize=(8, 6))\n",
    "plt.plot(battery_soh)\n",
    "plt.title('Simulated EV Battery State of Health (SoH) Over Time')\n",
    "plt.xlabel('Date')\n",
    "plt.ylabel('Capacity (%)')\n",
    "plt.grid(True)\n",
    "\n",
    "plt.show()"
   ]
  },
  {
   "cell_type": "code",
   "execution_count": 18,
   "id": "73211587",
   "metadata": {},
   "outputs": [
    {
     "name": "stdout",
     "output_type": "stream",
     "text": [
      "2023-01-01     99.621735\n",
      "2023-01-02    100.225259\n",
      "2023-01-03    100.536247\n",
      "2023-01-04    100.158840\n",
      "2023-01-05     99.342589\n",
      "Freq: D, Name: Battery_SOH, dtype: float64\n"
     ]
    }
   ],
   "source": [
    "print(battery_soh.head())"
   ]
  },
  {
   "cell_type": "code",
   "execution_count": 19,
   "id": "e2a83ba2",
   "metadata": {},
   "outputs": [],
   "source": [
    "# Save the simulated data to a CSV file\n",
    "battery_soh.to_csv('/Users/thyag/Desktop/projects/eloctrocute/sample_data/simulated_battery_soh.csv')"
   ]
  }
 ],
 "metadata": {
  "kernelspec": {
   "display_name": "venv",
   "language": "python",
   "name": "python3"
  },
  "language_info": {
   "codemirror_mode": {
    "name": "ipython",
    "version": 3
   },
   "file_extension": ".py",
   "mimetype": "text/x-python",
   "name": "python",
   "nbconvert_exporter": "python",
   "pygments_lexer": "ipython3",
   "version": "3.12.8"
  }
 },
 "nbformat": 4,
 "nbformat_minor": 5
}
